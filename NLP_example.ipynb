{
  "nbformat": 4,
  "nbformat_minor": 0,
  "metadata": {
    "colab": {
      "name": "NLP_example.ipynb",
      "provenance": [],
      "authorship_tag": "ABX9TyNFoPUTiq4vDkPRt1ot73ig",
      "include_colab_link": true
    },
    "kernelspec": {
      "name": "python3",
      "display_name": "Python 3"
    },
    "language_info": {
      "name": "python"
    }
  },
  "cells": [
    {
      "cell_type": "markdown",
      "metadata": {
        "id": "view-in-github",
        "colab_type": "text"
      },
      "source": [
        "<a href=\"https://colab.research.google.com/github/FrankAlvaradoR/Digital_Signal_Processing/blob/main/NLP_example.ipynb\" target=\"_parent\"><img src=\"https://colab.research.google.com/assets/colab-badge.svg\" alt=\"Open In Colab\"/></a>"
      ]
    },
    {
      "cell_type": "markdown",
      "source": [
        "\n",
        "\n",
        "```\n",
        "# Inicializamos las librerias\n",
        "\n",
        "\n",
        "```\n",
        "\n"
      ],
      "metadata": {
        "id": "kjcidV7VeHRT"
      }
    },
    {
      "cell_type": "code",
      "execution_count": null,
      "metadata": {
        "id": "V9xitZyrXEpe"
      },
      "outputs": [],
      "source": [
        "#What makes Ali Wong different?\n",
        "import requests\n",
        "from bs4 import BeautifulSoup\n",
        "import pickle"
      ]
    },
    {
      "cell_type": "markdown",
      "source": [
        ""
      ],
      "metadata": {
        "id": "nMU2d2v2eGuU"
      }
    },
    {
      "cell_type": "code",
      "source": [
        "#Scrapes transcript data from scrapsgromtheloft.com\n",
        "def url_to_transcript(url):\n",
        "  '''Returns transcript data specifically from scrapsfromtheloft.com'''\n",
        "  page = requests.get(url).text\n",
        "  soup = BeautifulSoup(page,\"lxml\")\n",
        "  print(soup)\n",
        "  text = [p.test for p in soup.find(class_=\"elementor-widget-container\").find_all('p')]\n",
        "  print(text)\n",
        "  print(url)\n",
        "  return text\n",
        "\n",
        "#URLs of transcripts in scope\n",
        "urls=['http://scrapsfromtheloft.com/2017/05/06/louis-ck-oh-my-god-full-transcript/']\n",
        "\n",
        "comedians = [ 'louis']\n",
        "\n"
      ],
      "metadata": {
        "id": "fWQpUUHdeAPN"
      },
      "execution_count": null,
      "outputs": []
    },
    {
      "cell_type": "code",
      "source": [
        "transcripts = [url_to_transcript(u) for u in urls]"
      ],
      "metadata": {
        "id": "ajWDCFpJkHE8"
      },
      "execution_count": null,
      "outputs": []
    },
    {
      "cell_type": "code",
      "source": [
        "#Load pichled files\n",
        "data = {}\n",
        "for i, c in enumerate(comedians):\n",
        "  with open(\"transcripts/\" + c + \".txt\", \"rb\") as file:\n",
        "    data[c] = pickle.load(file)\n",
        "\n"
      ],
      "metadata": {
        "id": "aqoJhrcdhRyT"
      },
      "execution_count": null,
      "outputs": []
    },
    {
      "cell_type": "code",
      "source": [
        "#Double check to make sure data has been loaded properly\n",
        "data.keys()"
      ],
      "metadata": {
        "id": "9uVTGQj1hxEN"
      },
      "execution_count": null,
      "outputs": []
    }
  ]
}