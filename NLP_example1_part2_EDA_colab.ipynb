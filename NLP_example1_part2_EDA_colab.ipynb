{
  "nbformat": 4,
  "nbformat_minor": 0,
  "metadata": {
    "colab": {
      "name": "NLP_example1_part2_EDA_colab.ipynb",
      "provenance": [],
      "authorship_tag": "ABX9TyOvZh1KdJbweoiHl+l6UUc6",
      "include_colab_link": true
    },
    "kernelspec": {
      "name": "python3",
      "display_name": "Python 3"
    },
    "language_info": {
      "name": "python"
    }
  },
  "cells": [
    {
      "cell_type": "markdown",
      "metadata": {
        "id": "view-in-github",
        "colab_type": "text"
      },
      "source": [
        "<a href=\"https://colab.research.google.com/github/FrankAlvaradoR/Digital_Signal_Processing/blob/main/NLP_example1_part2_EDA_colab.ipynb\" target=\"_parent\"><img src=\"https://colab.research.google.com/assets/colab-badge.svg\" alt=\"Open In Colab\"/></a>"
      ]
    },
    {
      "cell_type": "code",
      "execution_count": null,
      "metadata": {
        "id": "8nQRcAs6UOoK"
      },
      "outputs": [],
      "source": [
        "import pandas as pd\n",
        "from google.colab import drive\n",
        "drive.mount('/content/drive',force_remount=True)\n",
        "data=pd.read_pickle(\"/content/drive/My Drive/Colab_Notebooks/EjercicioNLP/transcripts/dtm.pkl\")\n",
        "data=data.transpose()\n",
        "data.head()"
      ]
    },
    {
      "cell_type": "code",
      "source": [
        "#Find the top 30 words said by each comedian \n",
        "top_dict={}\n",
        "for c in data.columns:\n",
        "  top = data[c].sort_values(ascending=False).head(30)\n",
        "  top_dict[c]=list(zip(top.index, top.values))\n",
        "\n",
        "top_dict"
      ],
      "metadata": {
        "id": "3aKOBez-UgNF"
      },
      "execution_count": null,
      "outputs": []
    },
    {
      "cell_type": "code",
      "source": [
        "#Print the top 15 words sais by each comedian \n",
        "for comedian, top_words in top_dict.items():\n",
        "  print(comedian)\n",
        "  print(', '.join([word for word, count in top_words[0:14]]))\n",
        "  print(' - - -')\n",
        "\n"
      ],
      "metadata": {
        "id": "-p-9rdFrVPVz"
      },
      "execution_count": null,
      "outputs": []
    },
    {
      "cell_type": "code",
      "source": [
        "#Look at the most common words --> add them to the stop words list\n",
        "from collections import Counter \n",
        "\n",
        "#Let's first pull put the top 30 words for each comedian \n",
        "words=[]\n",
        "for comedian in data.columns:\n",
        "  top=[word for (word,count) in top_dict[comedian]]\n",
        "  for t in top:\n",
        "    words.append(t)\n",
        "words"
      ],
      "metadata": {
        "id": "V-nF9Z3xV2CD"
      },
      "execution_count": null,
      "outputs": []
    },
    {
      "cell_type": "code",
      "source": [
        "Counter(words).most_common()"
      ],
      "metadata": {
        "id": "w5VS5VLcWWxf"
      },
      "execution_count": null,
      "outputs": []
    },
    {
      "cell_type": "code",
      "source": [
        "add_stop_words = [word for word, count in Counter(words).most_common() if count >2]\n",
        "add_stop_words"
      ],
      "metadata": {
        "id": "yMfri5thWgXQ"
      },
      "execution_count": null,
      "outputs": []
    },
    {
      "cell_type": "code",
      "source": [
        "from sklearn.feature_extraction import text \n",
        "from sklearn.feature_extraction.text import CountVectorizer\n",
        "\n",
        "#Read in cleaned data\n",
        "data_clean = pd.read_pickle(\"/content/drive/My Drive/Colab_Notebooks/EjercicioNLP/transcripts/data_clean.pkl\")\n",
        "\n",
        "#Add new stop words\n",
        "stop_words = text.ENGLISH_STOP_WORDS.union(add_stop_words)\n",
        "\n",
        "#Recreate document text matrix\n",
        "cv= CountVectorizer(stop_words=stop_words)\n",
        "data_cv = cv.fit_transform(data_clean.transcript)\n",
        "data_stop = pd.DataFrame(data_cv.toarray(), columns=cv.get_feature_names_out())\n",
        "data_stop.index = data_clean.index\n",
        "\n",
        "#Pickle it for later use\n",
        "import pickle\n",
        "pickle.dump(cv, open(\"/content/drive/My Drive/Colab_Notebooks/EjercicioNLP/transcripts/cv_stop.pkl\", \"wb\"))\n",
        "data_stop.to_pickle(\"/content/drive/My Drive/Colab_Notebooks/EjercicioNLP/transcripts/dtm_stop.pkl\")"
      ],
      "metadata": {
        "id": "ku-BwLCaWvCY"
      },
      "execution_count": 10,
      "outputs": []
    },
    {
      "cell_type": "code",
      "source": [
        "#Lets make some clouds \n",
        "from wordcloud import WordCloud\n",
        "\n",
        "wc = WordCloud(stopwords = stop_words, background_color=\"white\",colormap=\"Dark2\",max_font_size=150,random_state=42)"
      ],
      "metadata": {
        "id": "NU2LxwHMYdIj"
      },
      "execution_count": 12,
      "outputs": []
    },
    {
      "cell_type": "code",
      "source": [
        "import matplotlib.pyplot as plt\n",
        "\n",
        "plt.rcParams['figure.figsize']=[16,6]\n",
        "\n",
        "full_names = ['Bo Burnham','Dave Chappelle','Louis C.K.','Ricky']\n",
        "\n",
        "for index, comedian in enumerate(data.columns):\n",
        "  wc.generate(data_clean.transcript[comedian])\n",
        "\n",
        "  plt.subplot(2,2,index+1)\n",
        "  plt.imshow(wc, interpolation=\"bilinear\")\n",
        "  plt.axis(\"off\")\n",
        "  plt.title(full_names[index])\n",
        "\n",
        "plt.show()"
      ],
      "metadata": {
        "id": "fmxrplwrY0h0"
      },
      "execution_count": null,
      "outputs": []
    },
    {
      "cell_type": "code",
      "source": [
        "#Number of works\n",
        "\n",
        "#Find the numeber of unique words that each comedian uses\n",
        "#Identify the non-zero items in the document-term matrix, meaning the words occurs at least \n",
        "\n",
        "unique_list=[]\n",
        "for comedian in data.columns:\n",
        "  uniques = data[comedian].to_numpy().nonzero()[0].size\n",
        "  unique_list.append(uniques)\n",
        "\n",
        "#Create a new data frame that contains this unique word count\n",
        "data_words = pd.DataFrame(list(zip(full_names,unique_list)), columns=['comedian','unique_words'])\n",
        "data_unique_sort = data_words.sort_values(by='unique_words')\n",
        "data_unique_sort\n"
      ],
      "metadata": {
        "id": "7qFF9JMdZr1a"
      },
      "execution_count": null,
      "outputs": []
    },
    {
      "cell_type": "code",
      "source": [
        "#Calculate the words per minute of each comedian\n",
        "total_list= []\n",
        "for comedian in data.columns:\n",
        "  totals = sum(data[comedian])\n",
        "  total_list.append(totals)\n",
        "\n",
        "#Comedy special run times from IMDB in minutes\n",
        "run_times = [ 60,67,58,79]\n",
        "\n",
        "#Add some columns to our dataframe\n",
        "data_words['total_words']=total_list\n",
        "data_words['run_times'] = run_times\n",
        "data_words['words_per_minute'] = data_words['total_words']/data_words['run_times']\n",
        "\n",
        "#Sort the dataframe by words per minute to see who talks the slowest and fastest\n",
        "data_wpm_sort = data_words.sort_values(by='words_per_minute')\n",
        "data_wpm_sort\n"
      ],
      "metadata": {
        "id": "74HGXaAcaugP"
      },
      "execution_count": null,
      "outputs": []
    },
    {
      "cell_type": "code",
      "source": [
        "#Let's plot our findings\n",
        "import numpy as np\n",
        "\n",
        "y_pos=np.arange(len(data_words))\n",
        "\n",
        "plt.subplot(1,2,1)\n",
        "plt.barh(y_pos, data_unique_sort.unique_words, align= 'center')\n",
        "plt.yticks(y_pos, data_unique_sort.comedian)\n",
        "plt.title('Number of unique words',fontsize=20)\n",
        "\n",
        "plt.subplot(1,2,2)\n",
        "plt.barh(y_pos, data_wpm_sort.words_per_minute, align='center')\n",
        "plt.yticks(y_pos, data_wpm_sort.comedian)\n",
        "plt.title('Number of words per minute', fontsize=20)\n",
        "\n",
        "plt.tight_layout()\n",
        "plt.show()"
      ],
      "metadata": {
        "id": "z8cBt72icPM0"
      },
      "execution_count": null,
      "outputs": []
    },
    {
      "cell_type": "code",
      "source": [
        "#Amount of profany\n",
        "Counter(words).most_common()\n",
        "\n",
        "#Isolate just these bad words\n",
        "data_bad_words = data.transpose()[['fucking', 'fuck', 'shit']]\n",
        "data_profany = pd.concat([data_bad_words.fucking + data_bad_words.fuck, data_bad_words.shit], axis=1, sort =False)\n",
        "data_profany.columns = ['f_word','s_word']\n",
        "data_profany"
      ],
      "metadata": {
        "colab": {
          "base_uri": "https://localhost:8080/",
          "height": 175
        },
        "id": "UoEgl8MwdIoQ",
        "outputId": "2e2fe0ac-647c-4255-e01d-92547e8fbaf1"
      },
      "execution_count": 20,
      "outputs": [
        {
          "output_type": "execute_result",
          "data": {
            "text/plain": [
              "       f_word  s_word\n",
              "bo         38       6\n",
              "dave       65      46\n",
              "louis      21      25\n",
              "ricky      60       6"
            ],
            "text/html": [
              "\n",
              "  <div id=\"df-908ef1af-4e71-4f7c-8c47-df9e5c105bda\">\n",
              "    <div class=\"colab-df-container\">\n",
              "      <div>\n",
              "<style scoped>\n",
              "    .dataframe tbody tr th:only-of-type {\n",
              "        vertical-align: middle;\n",
              "    }\n",
              "\n",
              "    .dataframe tbody tr th {\n",
              "        vertical-align: top;\n",
              "    }\n",
              "\n",
              "    .dataframe thead th {\n",
              "        text-align: right;\n",
              "    }\n",
              "</style>\n",
              "<table border=\"1\" class=\"dataframe\">\n",
              "  <thead>\n",
              "    <tr style=\"text-align: right;\">\n",
              "      <th></th>\n",
              "      <th>f_word</th>\n",
              "      <th>s_word</th>\n",
              "    </tr>\n",
              "  </thead>\n",
              "  <tbody>\n",
              "    <tr>\n",
              "      <th>bo</th>\n",
              "      <td>38</td>\n",
              "      <td>6</td>\n",
              "    </tr>\n",
              "    <tr>\n",
              "      <th>dave</th>\n",
              "      <td>65</td>\n",
              "      <td>46</td>\n",
              "    </tr>\n",
              "    <tr>\n",
              "      <th>louis</th>\n",
              "      <td>21</td>\n",
              "      <td>25</td>\n",
              "    </tr>\n",
              "    <tr>\n",
              "      <th>ricky</th>\n",
              "      <td>60</td>\n",
              "      <td>6</td>\n",
              "    </tr>\n",
              "  </tbody>\n",
              "</table>\n",
              "</div>\n",
              "      <button class=\"colab-df-convert\" onclick=\"convertToInteractive('df-908ef1af-4e71-4f7c-8c47-df9e5c105bda')\"\n",
              "              title=\"Convert this dataframe to an interactive table.\"\n",
              "              style=\"display:none;\">\n",
              "        \n",
              "  <svg xmlns=\"http://www.w3.org/2000/svg\" height=\"24px\"viewBox=\"0 0 24 24\"\n",
              "       width=\"24px\">\n",
              "    <path d=\"M0 0h24v24H0V0z\" fill=\"none\"/>\n",
              "    <path d=\"M18.56 5.44l.94 2.06.94-2.06 2.06-.94-2.06-.94-.94-2.06-.94 2.06-2.06.94zm-11 1L8.5 8.5l.94-2.06 2.06-.94-2.06-.94L8.5 2.5l-.94 2.06-2.06.94zm10 10l.94 2.06.94-2.06 2.06-.94-2.06-.94-.94-2.06-.94 2.06-2.06.94z\"/><path d=\"M17.41 7.96l-1.37-1.37c-.4-.4-.92-.59-1.43-.59-.52 0-1.04.2-1.43.59L10.3 9.45l-7.72 7.72c-.78.78-.78 2.05 0 2.83L4 21.41c.39.39.9.59 1.41.59.51 0 1.02-.2 1.41-.59l7.78-7.78 2.81-2.81c.8-.78.8-2.07 0-2.86zM5.41 20L4 18.59l7.72-7.72 1.47 1.35L5.41 20z\"/>\n",
              "  </svg>\n",
              "      </button>\n",
              "      \n",
              "  <style>\n",
              "    .colab-df-container {\n",
              "      display:flex;\n",
              "      flex-wrap:wrap;\n",
              "      gap: 12px;\n",
              "    }\n",
              "\n",
              "    .colab-df-convert {\n",
              "      background-color: #E8F0FE;\n",
              "      border: none;\n",
              "      border-radius: 50%;\n",
              "      cursor: pointer;\n",
              "      display: none;\n",
              "      fill: #1967D2;\n",
              "      height: 32px;\n",
              "      padding: 0 0 0 0;\n",
              "      width: 32px;\n",
              "    }\n",
              "\n",
              "    .colab-df-convert:hover {\n",
              "      background-color: #E2EBFA;\n",
              "      box-shadow: 0px 1px 2px rgba(60, 64, 67, 0.3), 0px 1px 3px 1px rgba(60, 64, 67, 0.15);\n",
              "      fill: #174EA6;\n",
              "    }\n",
              "\n",
              "    [theme=dark] .colab-df-convert {\n",
              "      background-color: #3B4455;\n",
              "      fill: #D2E3FC;\n",
              "    }\n",
              "\n",
              "    [theme=dark] .colab-df-convert:hover {\n",
              "      background-color: #434B5C;\n",
              "      box-shadow: 0px 1px 3px 1px rgba(0, 0, 0, 0.15);\n",
              "      filter: drop-shadow(0px 1px 2px rgba(0, 0, 0, 0.3));\n",
              "      fill: #FFFFFF;\n",
              "    }\n",
              "  </style>\n",
              "\n",
              "      <script>\n",
              "        const buttonEl =\n",
              "          document.querySelector('#df-908ef1af-4e71-4f7c-8c47-df9e5c105bda button.colab-df-convert');\n",
              "        buttonEl.style.display =\n",
              "          google.colab.kernel.accessAllowed ? 'block' : 'none';\n",
              "\n",
              "        async function convertToInteractive(key) {\n",
              "          const element = document.querySelector('#df-908ef1af-4e71-4f7c-8c47-df9e5c105bda');\n",
              "          const dataTable =\n",
              "            await google.colab.kernel.invokeFunction('convertToInteractive',\n",
              "                                                     [key], {});\n",
              "          if (!dataTable) return;\n",
              "\n",
              "          const docLinkHtml = 'Like what you see? Visit the ' +\n",
              "            '<a target=\"_blank\" href=https://colab.research.google.com/notebooks/data_table.ipynb>data table notebook</a>'\n",
              "            + ' to learn more about interactive tables.';\n",
              "          element.innerHTML = '';\n",
              "          dataTable['output_type'] = 'display_data';\n",
              "          await google.colab.output.renderOutput(dataTable, element);\n",
              "          const docLink = document.createElement('div');\n",
              "          docLink.innerHTML = docLinkHtml;\n",
              "          element.appendChild(docLink);\n",
              "        }\n",
              "      </script>\n",
              "    </div>\n",
              "  </div>\n",
              "  "
            ]
          },
          "metadata": {},
          "execution_count": 20
        }
      ]
    },
    {
      "cell_type": "code",
      "source": [
        "plt.rcParams['figure.figsize']=[10,8]\n",
        "for i, comedian in enumerate(data_profany.index):\n",
        "  x=data_profany.f_word.loc[comedian]\n",
        "  y=data_profany.s_word.loc[comedian]\n",
        "  plt.scatter(x,y,color='blue')\n",
        "  plt.text(x+1.5,y+1.5,full_names[i], fontsize=10)\n",
        "  plt.xlim(-5,155)\n",
        "\n",
        "plt.title('Number of bad words used un routine',fontsize=20)\n",
        "plt.xlabel('Number of F bombs',fontsize=15)\n",
        "plt.ylabel('Number of S words',fontsize=15)\n",
        "\n",
        "plt.show()"
      ],
      "metadata": {
        "colab": {
          "base_uri": "https://localhost:8080/",
          "height": 523
        },
        "id": "9WplV2m0d0ms",
        "outputId": "9d9fe0d1-8a7d-446a-a426-d7abe57084a8"
      },
      "execution_count": 22,
      "outputs": [
        {
          "output_type": "display_data",
          "data": {
            "text/plain": [
              "<Figure size 720x576 with 1 Axes>"
            ],
            "image/png": "[encoded data removed]"
          },
          "metadata": {
            "needs_background": "light"
          }
        }
      ]
    },
    {
      "cell_type": "code",
      "source": [
        ""
      ],
      "metadata": {
        "id": "0m7u51J8etWF"
      },
      "execution_count": null,
      "outputs": []
    }
  ]
}